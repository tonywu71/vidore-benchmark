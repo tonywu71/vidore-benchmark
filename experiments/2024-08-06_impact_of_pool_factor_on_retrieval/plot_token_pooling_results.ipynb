{
 "cells": [
  {
   "cell_type": "markdown",
   "metadata": {},
   "source": [
    "## Imports"
   ]
  },
  {
   "cell_type": "code",
   "execution_count": null,
   "metadata": {},
   "outputs": [],
   "source": [
    "%load_ext autoreload\n",
    "%autoreload 2"
   ]
  },
  {
   "cell_type": "code",
   "execution_count": null,
   "metadata": {},
   "outputs": [],
   "source": [
    "import os\n",
    "\n",
    "import pandas as pd\n",
    "import seaborn as sns\n",
    "from dotenv import load_dotenv\n",
    "from vidore_benchmark.evaluation.eval_manager import EvalManager\n",
    "from vidore_benchmark.utils.constants import OUTPUT_DIR\n",
    "\n",
    "RESULTS_DIR = OUTPUT_DIR / \"token_pooling\"\n",
    "RESULTS_DIR.mkdir(exist_ok=True, parents=True)\n",
    "\n",
    "load_dotenv(override=True)\n",
    "sns.set_style(\"whitegrid\")\n",
    "\n",
    "while \"experiments\" not in os.listdir():\n",
    "    os.chdir(\"..\")"
   ]
  },
  {
   "cell_type": "code",
   "execution_count": null,
   "metadata": {},
   "outputs": [],
   "source": [
    "eval_managers = [\n",
    "    EvalManager.from_dir(\"experiments/2024-08-06_impact_of_pool_factor_on_retrieval/outputs/docvqa/metrics/\"),\n",
    "    EvalManager.from_dir(\"experiments/2024-08-06_impact_of_pool_factor_on_retrieval/outputs/energy/metrics/\"),\n",
    "    EvalManager.from_dir(\"experiments/2024-08-06_impact_of_pool_factor_on_retrieval/outputs/shift_project/metrics/\"),\n",
    "]\n",
    "list_df = [eval_manager.melted for eval_manager in eval_managers]\n",
    "\n",
    "df = pd.concat(list_df, ignore_index=True)\n",
    "df"
   ]
  },
  {
   "cell_type": "code",
   "execution_count": null,
   "metadata": {},
   "outputs": [],
   "source": [
    "df[\"pool_factor\"] = df[\"model\"].str.extract(r\"pool_factor_(\\d+)\").astype(int)\n",
    "df[\"model\"] = df[\"model\"].str.extract(r\"(.*)_metrics_pool_factor_\\d+\")\n",
    "\n",
    "df = df[df[\"metric\"] == \"ndcg_at_5\"]\n",
    "df = df[df[\"pool_factor\"] <= 10]\n",
    "\n",
    "df"
   ]
  },
  {
   "cell_type": "code",
   "execution_count": null,
   "metadata": {},
   "outputs": [],
   "source": [
    "sns.lineplot(data=df, x=\"pool_factor\", y=\"score\", hue=\"dataset\")"
   ]
  },
  {
   "cell_type": "code",
   "execution_count": null,
   "metadata": {},
   "outputs": [],
   "source": []
  }
 ],
 "metadata": {
  "kernelspec": {
   "display_name": ".venv",
   "language": "python",
   "name": "python3"
  },
  "language_info": {
   "codemirror_mode": {
    "name": "ipython",
    "version": 3
   },
   "file_extension": ".py",
   "mimetype": "text/x-python",
   "name": "python",
   "nbconvert_exporter": "python",
   "pygments_lexer": "ipython3",
   "version": "3.11.6"
  }
 },
 "nbformat": 4,
 "nbformat_minor": 2
}
