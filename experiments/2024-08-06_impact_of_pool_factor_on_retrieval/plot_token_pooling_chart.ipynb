{
 "cells": [
  {
   "cell_type": "markdown",
   "metadata": {},
   "source": [
    "## Imports"
   ]
  },
  {
   "cell_type": "code",
   "execution_count": null,
   "metadata": {},
   "outputs": [],
   "source": [
    "%load_ext autoreload\n",
    "%autoreload 2"
   ]
  },
  {
   "cell_type": "code",
   "execution_count": null,
   "metadata": {},
   "outputs": [],
   "source": [
    "import os\n",
    "from pathlib import Path\n",
    "\n",
    "import matplotlib.pyplot as plt\n",
    "import numpy as np\n",
    "from dotenv import load_dotenv\n",
    "from PIL import Image\n",
    "from vidore_benchmark.compression.token_pooling import HierarchicalEmbeddingPooler\n",
    "from vidore_benchmark.retrievers.colpali_retriever import ColPaliRetriever\n",
    "from vidore_benchmark.utils.constants import OUTPUT_DIR\n",
    "from vidore_benchmark.utils.image_utils import scale_image\n",
    "\n",
    "RESULTS_DIR = OUTPUT_DIR / \"failure_analysis\"\n",
    "RESULTS_DIR.mkdir(exist_ok=True, parents=True)\n",
    "\n",
    "load_dotenv(override=True)\n",
    "\n",
    "while \"experiments\" not in os.listdir():\n",
    "    os.chdir(\"..\")"
   ]
  },
  {
   "cell_type": "markdown",
   "metadata": {},
   "source": [
    "## Load model and dataset"
   ]
  },
  {
   "cell_type": "code",
   "execution_count": null,
   "metadata": {},
   "outputs": [],
   "source": [
    "colpali_retriever = ColPaliRetriever()\n",
    "\n",
    "resolution = 448\n",
    "patch_size = 14\n",
    "num_patches = resolution // patch_size"
   ]
  },
  {
   "cell_type": "code",
   "execution_count": null,
   "metadata": {},
   "outputs": [],
   "source": [
    "query = \"Which hour of the day had the highest overall electricity generation in 2019?\"\n",
    "image_filepath = Path(\"data/interpretability_examples/energy_electricity_generation.jpeg\")\n",
    "assert image_filepath.is_file(), f\"File `{image_filepath}` not found\"\n",
    "\n",
    "img = Image.open(image_filepath)\n",
    "scale_image(img, 256)"
   ]
  },
  {
   "cell_type": "code",
   "execution_count": null,
   "metadata": {},
   "outputs": [],
   "source": [
    "emb_documents = colpali_retriever.forward_documents(\n",
    "    documents=[img],\n",
    "    batch_size=1,\n",
    ")"
   ]
  },
  {
   "cell_type": "code",
   "execution_count": null,
   "metadata": {},
   "outputs": [],
   "source": [
    "embedding_pooler = HierarchicalEmbeddingPooler(pool_factor=100)\n",
    "\n",
    "emb_documents_pooled = []\n",
    "list_cluster_id_to_indices = []\n",
    "for emb_document in emb_documents:\n",
    "    emb_document_pooled, cluster_id_to_indices = embedding_pooler.pool_embeddings(emb_document)\n",
    "    emb_documents_pooled.append(emb_document_pooled)\n",
    "    list_cluster_id_to_indices.append(cluster_id_to_indices)\n",
    "\n",
    "print(emb_documents[0].shape)\n",
    "print(emb_documents_pooled[0].shape)"
   ]
  },
  {
   "cell_type": "code",
   "execution_count": null,
   "metadata": {},
   "outputs": [],
   "source": [
    "list_cluster_id_to_indices[0]"
   ]
  },
  {
   "cell_type": "code",
   "execution_count": null,
   "metadata": {},
   "outputs": [],
   "source": [
    "lengths = [len(indices) for indices in list_cluster_id_to_indices[0].values()]\n",
    "lengths"
   ]
  },
  {
   "cell_type": "code",
   "execution_count": null,
   "metadata": {},
   "outputs": [],
   "source": [
    "max(lengths)"
   ]
  },
  {
   "cell_type": "code",
   "execution_count": null,
   "metadata": {},
   "outputs": [],
   "source": [
    "lengths.index(max(lengths))"
   ]
  },
  {
   "cell_type": "code",
   "execution_count": null,
   "metadata": {},
   "outputs": [],
   "source": [
    "cluster_of_interest = list_cluster_id_to_indices[0][lengths.index(max(lengths)) + 1].cpu().tolist()\n",
    "cluster_of_interest"
   ]
  },
  {
   "cell_type": "code",
   "execution_count": null,
   "metadata": {},
   "outputs": [],
   "source": [
    "patch_indices = [(idx // num_patches, idx % num_patches) for idx in cluster_of_interest]\n",
    "patch_indices"
   ]
  },
  {
   "cell_type": "code",
   "execution_count": null,
   "metadata": {},
   "outputs": [],
   "source": [
    "emb_queries = colpali_retriever.forward_queries(\n",
    "    queries=[query],\n",
    "    batch_size=1,\n",
    ")"
   ]
  },
  {
   "cell_type": "code",
   "execution_count": null,
   "metadata": {},
   "outputs": [],
   "source": [
    "style = {}\n",
    "figsize = (8, 8)\n",
    "\n",
    "# Get the image as a numpy array\n",
    "input_image_square = img.resize((resolution, resolution))\n",
    "img_array = np.array(input_image_square.convert(\"RGBA\"))  # (H, W, C) where the last channel is the alpha channel\n",
    "\n",
    "with plt.style.context(style):\n",
    "    fig, axis = plt.subplots(num_patches, num_patches, figsize=figsize)\n",
    "\n",
    "    # Plot the patches\n",
    "    for i in range(num_patches):\n",
    "        for j in range(num_patches):\n",
    "            patch = img_array[i * patch_size : (i + 1) * patch_size, j * patch_size : (j + 1) * patch_size, :]\n",
    "            if (i, j) in patch_indices:\n",
    "                axis[i, j].imshow(patch)\n",
    "            axis[i, j].axis(\"off\")\n",
    "\n",
    "    fig.subplots_adjust(wspace=0.1, hspace=0.1)\n",
    "\n",
    "fig.tight_layout()\n",
    "\n",
    "fig"
   ]
  },
  {
   "cell_type": "code",
   "execution_count": null,
   "metadata": {},
   "outputs": [],
   "source": []
  }
 ],
 "metadata": {
  "kernelspec": {
   "display_name": ".venv",
   "language": "python",
   "name": "python3"
  },
  "language_info": {
   "codemirror_mode": {
    "name": "ipython",
    "version": 3
   },
   "file_extension": ".py",
   "mimetype": "text/x-python",
   "name": "python",
   "nbconvert_exporter": "python",
   "pygments_lexer": "ipython3",
   "version": "3.11.6"
  }
 },
 "nbformat": 4,
 "nbformat_minor": 2
}
